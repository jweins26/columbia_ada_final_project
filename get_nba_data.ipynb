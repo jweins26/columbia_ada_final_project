{
 "cells": [
  {
   "cell_type": "code",
   "execution_count": 1,
   "metadata": {},
   "outputs": [],
   "source": [
    "import urllib"
   ]
  },
  {
   "cell_type": "code",
   "execution_count": 2,
   "metadata": {},
   "outputs": [],
   "source": [
    "from bs4 import BeautifulSoup as soup"
   ]
  },
  {
   "cell_type": "code",
   "execution_count": 3,
   "metadata": {},
   "outputs": [],
   "source": [
    "import pandas as pd"
   ]
  },
  {
   "cell_type": "code",
   "execution_count": 4,
   "metadata": {},
   "outputs": [],
   "source": [
    "\n",
    "def read_link(link):\n",
    "    f = urllib.request.urlopen(link)\n",
    "    myfile = f.read()\n",
    "    soup_file = soup(myfile, \"html\")\n",
    "    return soup_file"
   ]
  },
  {
   "cell_type": "code",
   "execution_count": 5,
   "metadata": {},
   "outputs": [],
   "source": [
    "def get_game_log_soup(link):\n",
    "    soup_file = read_link(link)\n",
    "\n",
    "    game_log_suffix = soup_file.findAll(\"table\", \n",
    "                                        {\"class\",\n",
    "                                         \"data borderTop\"})[0].findAll(\n",
    "        \"a\",href = True)[0]['href']\n",
    "\n",
    "    game_log_link = website + game_log_suffix\n",
    "    game_log_soup = read_link(game_log_link)\n",
    "\n",
    "    return game_log_soup"
   ]
  },
  {
   "cell_type": "code",
   "execution_count": 6,
   "metadata": {},
   "outputs": [],
   "source": [
    "\n",
    "def get_game_log_data(game_log_soup, player_name):\n",
    "\n",
    "    game_log_data = []\n",
    "    for row in ['row1', 'row2']:\n",
    "\n",
    "        row_data = game_log_soup.findAll(\"table\", \n",
    "                              {\"class\": \n",
    "                               \"data borderTop title\"}\n",
    "                             )[0].findAll(\"tr\", {\"class\":row})\n",
    "\n",
    "        for dat in row_data:\n",
    "            gl = [player_name] + dat.get_text(\",\").split(\",\")\n",
    "            game_log_data.append(gl)\n",
    "\n",
    "    res = pd.DataFrame(game_log_data)\n",
    "    return res"
   ]
  },
  {
   "cell_type": "code",
   "execution_count": 7,
   "metadata": {},
   "outputs": [],
   "source": [
    "def get_soup_file(start_row):\n",
    "    \n",
    "    link = \"https://www.cbssports.com/nba/stats/playersort/NBA/year-2017-season-regularseason-category-scoringpergame?start_row=\" + str(start_row)\n",
    "\n",
    "    f = urllib.request.urlopen(link)\n",
    "    myfile = f.read()\n",
    "    soup_file = soup(myfile, \"html\")\n",
    "\n",
    "    return soup_file"
   ]
  },
  {
   "cell_type": "code",
   "execution_count": 8,
   "metadata": {},
   "outputs": [],
   "source": [
    "def get_clean_data(soup_file):\n",
    "\n",
    "\n",
    "    data = soup_file.findAll(\"table\", {\"class\", \"data\"})[0]\n",
    "\n",
    "    clean_data = []\n",
    "\n",
    "    for r in ['row1', 'row2']:\n",
    "\n",
    "        row_df = data.findAll(\"tr\", {\"class\", r})\n",
    "\n",
    "        for i in range(len(row_df)):\n",
    "            clean_data.append(row_df[i].get_text(\",\").split(\",\"))\n",
    "            \n",
    "    return pd.DataFrame(clean_data)"
   ]
  },
  {
   "cell_type": "code",
   "execution_count": 9,
   "metadata": {},
   "outputs": [
    {
     "name": "stderr",
     "output_type": "stream",
     "text": [
      "/Users/davinkaing/anaconda3/lib/python3.6/site-packages/bs4/__init__.py:181: UserWarning: No parser was explicitly specified, so I'm using the best available HTML parser for this system (\"lxml\"). This usually isn't a problem, but if you run this code on another system, or in a different virtual environment, it may use a different parser and behave differently.\n",
      "\n",
      "The code that caused this warning is on line 193 of the file /Users/davinkaing/anaconda3/lib/python3.6/runpy.py. To get rid of this warning, change code that looks like this:\n",
      "\n",
      " BeautifulSoup(YOUR_MARKUP})\n",
      "\n",
      "to this:\n",
      "\n",
      " BeautifulSoup(YOUR_MARKUP, \"lxml\")\n",
      "\n",
      "  markup_type=markup_type))\n"
     ]
    }
   ],
   "source": [
    "\n",
    "scoring_per_game = []\n",
    "\n",
    "for i in range(17):\n",
    "    start_row = i*30 + 1\n",
    "    scoring_per_game.append(get_clean_data(get_soup_file(start_row)))"
   ]
  },
  {
   "cell_type": "code",
   "execution_count": 10,
   "metadata": {},
   "outputs": [],
   "source": [
    "scoring_per_game_df = pd.concat(scoring_per_game)"
   ]
  },
  {
   "cell_type": "code",
   "execution_count": 11,
   "metadata": {},
   "outputs": [],
   "source": [
    "scoring_per_game_df.to_csv(\"scoring_per_game.csv\", index = False)"
   ]
  },
  {
   "cell_type": "code",
   "execution_count": null,
   "metadata": {},
   "outputs": [],
   "source": []
  },
  {
   "cell_type": "code",
   "execution_count": 24,
   "metadata": {},
   "outputs": [
    {
     "name": "stderr",
     "output_type": "stream",
     "text": [
      "/Users/davinkaing/anaconda3/lib/python3.6/site-packages/bs4/__init__.py:181: UserWarning: No parser was explicitly specified, so I'm using the best available HTML parser for this system (\"lxml\"). This usually isn't a problem, but if you run this code on another system, or in a different virtual environment, it may use a different parser and behave differently.\n",
      "\n",
      "The code that caused this warning is on line 193 of the file /Users/davinkaing/anaconda3/lib/python3.6/runpy.py. To get rid of this warning, change code that looks like this:\n",
      "\n",
      " BeautifulSoup(YOUR_MARKUP})\n",
      "\n",
      "to this:\n",
      "\n",
      " BeautifulSoup(YOUR_MARKUP, \"lxml\")\n",
      "\n",
      "  markup_type=markup_type))\n"
     ]
    }
   ],
   "source": [
    "\n",
    "all_game_log_data = []\n",
    "\n",
    "for i in range(17):\n",
    "    start_row = i*30 + 1\n",
    "\n",
    "    link = \"https://www.cbssports.com/nba/stats/playersort/NBA/year-2017-season-regularseason-category-scoringpergame?start_row=\" + str(start_row)\n",
    "\n",
    "    f = urllib.request.urlopen(link)\n",
    "    myfile = f.read()\n",
    "    soup_file = soup(myfile, \"html\")\n",
    "\n",
    "    table = soup_file.findAll(\"table\", {\"class\", \"data\"})[0]\n",
    "\n",
    "    href_dat = table.findAll(\"td\", {\"align\":\"left\"})\n",
    "\n",
    "\n",
    "    for j in range(len(href_dat)):\n",
    "\n",
    "        website = \"https://www.cbssports.com/\"\n",
    "        ph = href_dat[j].findAll(\"a\", href = True)[0]\n",
    "        player_name = ph.get_text().replace(\" \", \"-\").replace(\".\", \"-\")\n",
    "        player_href = ph['href'] + player_name\n",
    "        player_link = website + player_href\n",
    "        game_log_soup = get_game_log_soup(player_link)\n",
    "        all_game_log_data.append(get_game_log_data(game_log_soup, \n",
    "                                                   player_name))\n"
   ]
  },
  {
   "cell_type": "code",
   "execution_count": 25,
   "metadata": {},
   "outputs": [],
   "source": [
    "all_game_log_df = pd.concat(all_game_log_data, axis = 0)"
   ]
  },
  {
   "cell_type": "code",
   "execution_count": 26,
   "metadata": {},
   "outputs": [],
   "source": [
    "all_game_log_df.to_csv(\"all_game_log.csv\", index = False)"
   ]
  },
  {
   "cell_type": "code",
   "execution_count": 29,
   "metadata": {},
   "outputs": [
    {
     "data": {
      "text/plain": [
       "500"
      ]
     },
     "execution_count": 29,
     "metadata": {},
     "output_type": "execute_result"
    }
   ],
   "source": [
    "len(all_game_log_df[0].unique())"
   ]
  },
  {
   "cell_type": "code",
   "execution_count": null,
   "metadata": {},
   "outputs": [],
   "source": []
  }
 ],
 "metadata": {
  "kernelspec": {
   "display_name": "Python 3",
   "language": "python",
   "name": "python3"
  },
  "language_info": {
   "codemirror_mode": {
    "name": "ipython",
    "version": 3
   },
   "file_extension": ".py",
   "mimetype": "text/x-python",
   "name": "python",
   "nbconvert_exporter": "python",
   "pygments_lexer": "ipython3",
   "version": "3.6.3"
  }
 },
 "nbformat": 4,
 "nbformat_minor": 2
}
